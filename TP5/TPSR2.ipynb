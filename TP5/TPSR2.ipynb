{
 "cells": [
  {
   "cell_type": "markdown",
   "id": "0",
   "metadata": {
    "colab_type": "text",
    "id": "view-in-github"
   },
   "source": [
    "<a href=\"https://colab.research.google.com/github/thad75/OptionAI/blob/main/TP5/TPSR2.ipynb\" target=\"_parent\"><img src=\"https://colab.research.google.com/assets/colab-badge.svg\" alt=\"Open In Colab\"/></a>"
   ]
  },
  {
   "cell_type": "code",
   "execution_count": null,
   "id": "1",
   "metadata": {
    "id": "e6d01385"
   },
   "outputs": [],
   "source": [
    "!pip install gdown\n",
    "!gdown 1a7ZViLBLoCHKuLP8CSP_5uj0CTABqDaQ\n",
    "!mkdir ml-100k\n",
    "!tar -xf /content/ml-100k.tar.xz -C /content/ml-100k/\n",
    "!rm -d /content/ml-100k.tar.xz"
   ]
  },
  {
   "cell_type": "markdown",
   "id": "2",
   "metadata": {
    "id": "ca8cc3a9"
   },
   "source": [
    "# TP5 : Graph Neural Networks for Recommendation Systems\n",
    "\n",
    "In this last TP, you are going to explore the use of Graph Neural Networks (GNNs) for Recommendation Systems.\n",
    "\n",
    "The dataset you'll use is the dataset **MovieLens 100K**. This dataset describes people's expressed preference for movies. Each preference is described as a tuple (user, movie, rating). \n",
    "\n",
    "Users and movies description are also added. On one side, users are defined by their age, sex, occupation and location. On the other side, movies are described by 19 categories, for which each movie can belong to one or more.\n",
    "\n",
    "This TP is two-fold. First part concerns the computation and the analysis of the dataset, and will mostly be treated in TD, and second part is about the use of GNNs for movie recommendation."
   ]
  },
  {
   "cell_type": "markdown",
   "id": "3",
   "metadata": {
    "id": "c59e1e20"
   },
   "source": [
    "## Part 1 : Dataset analysis"
   ]
  },
  {
   "cell_type": "markdown",
   "id": "4",
   "metadata": {
    "id": "cb6d496f"
   },
   "source": [
    "### Libraries to include\n",
    "\n",
    "First of all, here are some libraries that you may need during this TP. Some of them are not mandatory, while other ones might not be used at all."
   ]
  },
  {
   "cell_type": "code",
   "execution_count": null,
   "id": "5",
   "metadata": {
    "id": "ehG7efNaVowL"
   },
   "outputs": [],
   "source": [
    "import math\n",
    "import copy\n",
    "import pickle\n",
    "import glob\n",
    "import os\n",
    "import sys\n",
    "import time\n",
    "from pathlib import Path\n",
    "from itertools import zip_longest\n",
    "import random\n",
    "from tqdm import tqdm\n",
    "import matplotlib.pyplot as plt\n",
    "\n",
    "import numpy as np\n",
    "import pandas as pd\n",
    "from sklearn.model_selection import train_test_split\n",
    "\n",
    "import torch\n",
    "from torch import nn\n",
    "from torch import optim\n",
    "\n",
    "device = 'cuda:0' if torch.cuda.is_available() else 'cpu'"
   ]
  },
  {
   "cell_type": "markdown",
   "id": "6",
   "metadata": {
    "id": "850bf3fd"
   },
   "source": [
    "### Setting the random seeds\n",
    "Used in order to fix the randomness of the experiments. It will be probably useless here, but it is always prefered."
   ]
  },
  {
   "cell_type": "code",
   "execution_count": null,
   "id": "7",
   "metadata": {
    "id": "12d46683"
   },
   "outputs": [],
   "source": [
    "def set_random_seed(state=1):\n",
    "    gens = (np.random.seed, torch.manual_seed, torch.cuda.manual_seed)\n",
    "    for set_state in gens:\n",
    "        set_state(state)\n",
    "\n",
    "RANDOM_STATE = 2021\n",
    "set_random_seed(RANDOM_STATE)"
   ]
  },
  {
   "cell_type": "markdown",
   "id": "8",
   "metadata": {
    "id": "9dd62b73"
   },
   "source": [
    "### Read the dataset files using pandas\n",
    "\n",
    "You start to work here ! First of all, we need to read the data. For this, we are going to use pandas. We also use this stage to remove the unused fields.\n",
    "\n",
    "The unused fields are : \n",
    "- timestamp in ratings\n",
    "- movieId, movie title, release data, video release date and IMDb URL for movies\n",
    "- user id and zip code for users\n",
    "\n",
    "We also use this stage to ont hot encode and normalize our data. Movies categories are already one hot encoded, so we only need to encode the sex and occupation fields. For normalization, we'll normalize the age field."
   ]
  },
  {
   "cell_type": "code",
   "execution_count": null,
   "id": "9",
   "metadata": {
    "id": "5c331b38"
   },
   "outputs": [],
   "source": [
    "def read_data(path):\n",
    "    files = {}\n",
    "    path = Path(path)\n",
    "    for filename in path.glob('*'):\n",
    "        if filename.suffix == '.data': \n",
    "            if filename.stem == 'u':\n",
    "                columns = ['userId', 'movieId', 'rating', 'timestamp']\n",
    "                data = pd.read_csv(filename, sep='\\t', names=columns, engine='python', encoding='latin-1')\n",
    "                data.drop(columns = \"timestamp\", inplace= True)\n",
    "                files['ratings'] = data\n",
    "                \n",
    "        elif filename.suffix == '.item': \n",
    "            if filename.stem == 'u':\n",
    "                # TODO\n",
    "                \n",
    "        elif filename.suffix == '.user': \n",
    "            if filename.stem == 'u':\n",
    "                # TODO\n",
    "    return files['ratings'], files['movies'], files[\"users\"]\n",
    "\n",
    "dataset = 'ml-100k'\n",
    "ratings, movies, users = read_data('data/'+dataset)"
   ]
  },
  {
   "cell_type": "markdown",
   "id": "10",
   "metadata": {
    "id": "394b23d2"
   },
   "source": [
    "We can check what our ratings looks like : "
   ]
  },
  {
   "cell_type": "code",
   "execution_count": null,
   "id": "11",
   "metadata": {
    "id": "3dda52d0"
   },
   "outputs": [],
   "source": [
    "ratings.head()"
   ]
  },
  {
   "cell_type": "markdown",
   "id": "12",
   "metadata": {
    "id": "213d0d2f"
   },
   "source": [
    "We can do the same for movies and users"
   ]
  },
  {
   "cell_type": "code",
   "execution_count": null,
   "id": "13",
   "metadata": {
    "id": "aae611e0"
   },
   "outputs": [],
   "source": [
    "movies.head()"
   ]
  },
  {
   "cell_type": "code",
   "execution_count": null,
   "id": "14",
   "metadata": {
    "id": "267ca63f"
   },
   "outputs": [],
   "source": [
    "users.head()"
   ]
  },
  {
   "cell_type": "markdown",
   "id": "15",
   "metadata": {
    "id": "7328486a"
   },
   "source": [
    "### Analysis\n",
    "\n",
    "Let's take some time to analyze a bit our dataset. We can for example plot the the histogram of ratings. What do you observe ? "
   ]
  },
  {
   "cell_type": "code",
   "execution_count": null,
   "id": "16",
   "metadata": {
    "id": "7448d481"
   },
   "outputs": [],
   "source": [
    "ratings[\"rating\"].hist()"
   ]
  },
  {
   "cell_type": "markdown",
   "id": "17",
   "metadata": {
    "id": "4c2b0bc9"
   },
   "source": [
    "__Plot the different features and analyse them.__"
   ]
  },
  {
   "cell_type": "code",
   "execution_count": null,
   "id": "18",
   "metadata": {
    "id": "343885d0"
   },
   "outputs": [],
   "source": [
    "movies.sum().plot.bar()"
   ]
  },
  {
   "cell_type": "code",
   "execution_count": null,
   "id": "19",
   "metadata": {
    "id": "b2ba9421"
   },
   "outputs": [],
   "source": [
    "# TODO : plot the histogram for the users sex"
   ]
  },
  {
   "cell_type": "code",
   "execution_count": null,
   "id": "20",
   "metadata": {
    "id": "3dc730fa"
   },
   "outputs": [],
   "source": [
    "# TODO : plot the histogram for the users occupation"
   ]
  },
  {
   "cell_type": "code",
   "execution_count": null,
   "id": "21",
   "metadata": {
    "id": "916315fc"
   },
   "outputs": [],
   "source": [
    "# TODO : plot the histogram for the users age"
   ]
  },
  {
   "cell_type": "markdown",
   "id": "22",
   "metadata": {
    "id": "93ced4d1"
   },
   "source": [
    "Comment the different results you obtain. \n",
    "* What kind of biases can you see ?\n",
    "* How do you think those biases may perturb your model ? \n",
    "* Do you think AI algorithms used also have biases ? \n"
   ]
  },
  {
   "cell_type": "markdown",
   "id": "23",
   "metadata": {
    "id": "ee624c46"
   },
   "source": [
    "## Part 2 : Preparing the dataset \n",
    "\n",
    "No more analysis, now we want to apply machine learning models to recommend movies according to this dataset.\n",
    "\n",
    "First step is to prepare the dataset in order to make it usable by our models.\n",
    "\n",
    "The following function take the triples from ratings and convert it into X and y, where X are the pair user/movie, and y is the rating to predict.\n",
    "\n",
    "__Question : why did we modify the user index ?__\n"
   ]
  },
  {
   "cell_type": "code",
   "execution_count": null,
   "id": "24",
   "metadata": {
    "id": "2f02046d"
   },
   "outputs": [],
   "source": [
    "def create_dataset(ratings, top=None):\n",
    "    if top is not None:\n",
    "        ratings.groupby('userId')['rating'].count()\n",
    "\n",
    "    unique_users = ratings.userId.unique()\n",
    "    user_to_index = {old: new for new, old in enumerate(unique_users)}\n",
    "    new_users = ratings.userId.map(user_to_index)\n",
    "\n",
    "    unique_movies = ratings.movieId.unique()\n",
    "    movie_to_index = {old: new for new, old in enumerate(unique_movies)}\n",
    "    new_movies = ratings.movieId.map(movie_to_index)\n",
    "\n",
    "    n_users = unique_users.shape[0]\n",
    "    n_movies = unique_movies.shape[0]\n",
    "\n",
    "    X = pd.DataFrame({'user_id': new_users, 'movie_id': new_movies})\n",
    "    y = ratings['rating'].astype(np.float32)\n",
    "    return (n_users, n_movies), (X, y), (user_to_index, movie_to_index)\n",
    "\n",
    "(n, m), (X, y), _ = create_dataset(ratings)\n",
    "print(X.head())\n",
    "print(y.head())\n",
    "print(f'Embeddings: {n} users, {m} movies')\n",
    "print(f'Dataset shape: {X.shape}')\n",
    "print(f'Target shape: {y.shape}')"
   ]
  },
  {
   "cell_type": "markdown",
   "id": "25",
   "metadata": {
    "id": "74f6a686"
   },
   "source": [
    "Now, we have to separate our dataset into 3 parts : train, valid and test. By using the train_test_split() function from sklearn.model_selection, put 60% of the data in training, 20% of the data for validation, and 20% in test.\n",
    "\n",
    "Hint : the function divide the input into 2 splits...\n",
    "\n",
    "__Due to the number of entries, you might need to reduce the number of data in training and validation later (personnaly, i have 20% in train and 16% in valid).__"
   ]
  },
  {
   "cell_type": "code",
   "execution_count": null,
   "id": "26",
   "metadata": {
    "id": "ebd7d043"
   },
   "outputs": [],
   "source": [
    "# TO DO : split the datasets\n",
    "\n",
    "\n",
    "\n",
    "datasets = {'train': (X_train, y_train), 'val': (X_valid, y_valid), 'test': (X_test, y_test)}\n",
    "dataset_sizes = {'train': len(X_train), 'val': len(X_valid), 'test': len(X_test)}\n",
    "\n",
    "print(dataset_sizes)"
   ]
  },
  {
   "cell_type": "markdown",
   "id": "27",
   "metadata": {
    "id": "08e2f1b8"
   },
   "source": [
    "Now we have our train, valid and test data, we need to compute the nodes of our graph. \n",
    "\n",
    "Here, our graph is a bit particular. It is a **bipartite graph**, where each part represent different entities (users and movies). In order to allow our models to differentiate users and movies, we'll add a new feature, which is going to be 0 if the node is a user, and 1 if the node is a movie. \n",
    "\n",
    "We end up by concatenating both matrices into a single one, our node matrix (H in the course)"
   ]
  },
  {
   "cell_type": "code",
   "execution_count": null,
   "id": "28",
   "metadata": {
    "id": "265478c5"
   },
   "outputs": [],
   "source": [
    "def compute_nodes(users, movies):\n",
    "    # TODO : Create the nodes\n",
    "    \n",
    "nodes = compute_nodes(users, movies)"
   ]
  },
  {
   "cell_type": "markdown",
   "id": "29",
   "metadata": {
    "id": "be3137b5"
   },
   "source": [
    "We also compute the corresponding adjacency matrix.\n",
    "\n",
    "__Question : why do we only use X_train to compute the adjacency matrix ?__"
   ]
  },
  {
   "cell_type": "code",
   "execution_count": null,
   "id": "30",
   "metadata": {
    "id": "c446f173"
   },
   "outputs": [],
   "source": [
    "def compute_adjacency_matrix(X_train):\n",
    "    #TODO\n",
    "    \n",
    "adjacency_matrix = compute_adjacency_matrix(X_train)\n",
    "full_adj = compute_adjacency_matrix(X)"
   ]
  },
  {
   "cell_type": "markdown",
   "id": "31",
   "metadata": {
    "id": "e37db4fb"
   },
   "source": [
    "__By using matplotlib, plot both adjacency_matrix. What do you observe ?__\n",
    "\n",
    "Once it is done, we won't use full_adj anymore"
   ]
  },
  {
   "cell_type": "code",
   "execution_count": null,
   "id": "32",
   "metadata": {
    "id": "ad650096"
   },
   "outputs": [],
   "source": [
    "# TODO : plot the adjacency matrix and the full_adj matrix\n",
    "\n"
   ]
  },
  {
   "cell_type": "markdown",
   "id": "33",
   "metadata": {
    "id": "f06f5374"
   },
   "source": [
    "## Part 3 : Training section\n",
    "\n",
    "We now have almost everything we need to train our model. First thing is to convert X_train, y_train, X_valid, y_valid, X_test and y_test into tensors (your job)"
   ]
  },
  {
   "cell_type": "code",
   "execution_count": null,
   "id": "34",
   "metadata": {
    "id": "fba3b711"
   },
   "outputs": [],
   "source": [
    "# TODO : Transform your data into Tensors\n",
    "\n"
   ]
  },
  {
   "cell_type": "markdown",
   "id": "35",
   "metadata": {
    "id": "960bea3f"
   },
   "source": [
    "Next step is to define a GNN Layer. Complete the following code in order to compute a simple GNN layer \\sigma(AHW+b)"
   ]
  },
  {
   "cell_type": "code",
   "execution_count": null,
   "id": "36",
   "metadata": {
    "id": "6fd5075e"
   },
   "outputs": [],
   "source": [
    "class GNN_layer(nn.Module):\n",
    "    def __init__(self, input_dim, output_dim=64): \n",
    "        super(GNN_layer,self).__init__()\n",
    "        \n",
    "        # TODO :\n",
    "        # Attributes : input dim and output dim\n",
    "        \n",
    "        # Non linearity : ReLU for example\n",
    "        \n",
    "        #Layer : Linear layer\n",
    "\n",
    "        \n",
    "    def forward(self, nodes, adjacency):\n",
    "        # TODO : \n",
    "        # AH multiplication\n",
    "        \n",
    "        # Apply Linear layer and non linearity\n",
    "\n",
    "        return out"
   ]
  },
  {
   "cell_type": "markdown",
   "id": "37",
   "metadata": {
    "id": "aea675c1"
   },
   "source": [
    "We now define our model. This model takes as input the nodes, the adjacency matrix, and the list of pair to predict X_(train/valid/test). It returns a value for each pair to predict. \n",
    "\n",
    "Complete the model in order to use one gnn layer you previously computed, and one linear layer to predict for each pair. "
   ]
  },
  {
   "cell_type": "code",
   "execution_count": null,
   "id": "38",
   "metadata": {
    "id": "b0df54b8"
   },
   "outputs": [],
   "source": [
    "class GNN_model(nn.Module):\n",
    "    def __init__(self, input_dim, hidden_dim, output_dim):\n",
    "        super(GNN_model, self).__init__()\n",
    "        # TO DO\n",
    "        # Attributes : intput dim, hidden dim (and output dim ?)\n",
    "        \n",
    "        # Add a GNN layer\n",
    "\n",
    "        \n",
    "        # Decision layer. Do we need an activation function ? If not, why ? If yes, which one ?\n",
    "\n",
    "        \n",
    "    def forward(self, nodes, adjacency, X):\n",
    "        # TO DO \n",
    "        # Apply GNN layer : \n",
    "        \n",
    "        \n",
    "        # Concatenate each pair of features for X. Given, because we are generous :)\n",
    "        node_pair = nodes[X].reshape((X.shape[0], 2*self.hidden_dim))\n",
    "        # Apply decision layer. Not given because we are not THAT generous \n",
    "        \n",
    "        return out\n",
    "\n",
    "        "
   ]
  },
  {
   "cell_type": "markdown",
   "id": "39",
   "metadata": {
    "id": "43ecf9a7"
   },
   "source": [
    "Time to train ! \n",
    "\n",
    "* Start by transforming the adjacency matrix and the nodes matrix into tensors.\n",
    "* At each epochs, make one step of training, and one step of validation, and save both losses into lists\n",
    "* Plot the training curves."
   ]
  },
  {
   "cell_type": "code",
   "execution_count": null,
   "id": "40",
   "metadata": {
    "id": "81827a15"
   },
   "outputs": [],
   "source": [
    "nb_epochs = 1000\n",
    "\n",
    "loss_train = []\n",
    "loss_valid = []\n",
    "\n",
    "nodes_tensor = torch.from_numpy(nodes).float().to(device)\n",
    "adjacency_matrix_tensor = torch.from_numpy(adjacency_matrix).float().to(device)\n",
    "\n",
    "# TO DO : Define your model, your loss and your optimizer\n",
    "\n",
    "for i in tqdm(range(nb_epochs)):\n",
    "    # TO DO \n",
    "    # As you've done in previous TP, apply your model on your TRAIN data, compute the loss and backpropagate it. \n",
    "    # Also add your loss to your list\n",
    "\n",
    "    # Now, apply your model on your VALID data. Compute your loss but do NOT backpropagate it. It is only for validation !\n",
    "    # Also add your lost to your list\n",
    "    \n",
    "# TO DO : Apply you model on TEST data and compute the Root Mean-Squared Error (outside the loop)\n",
    "\n",
    "\n",
    "# TO DO : plot both loss train and loss valid\n",
    "\n",
    "\n",
    "del model"
   ]
  },
  {
   "cell_type": "markdown",
   "id": "41",
   "metadata": {
    "id": "cef69cc3"
   },
   "source": [
    "We now want to improve our GNN model into a Vanilla GNN :  $\\sigma((A+I)HW)$.\n",
    "\n",
    " No need to change our layer, we only need to change our adjacency matrix ! "
   ]
  },
  {
   "cell_type": "code",
   "execution_count": null,
   "id": "42",
   "metadata": {
    "id": "6e6a9d90"
   },
   "outputs": [],
   "source": [
    "nb_epochs = 1000\n",
    "\n",
    "loss_train = []\n",
    "loss_valid = []\n",
    "\n",
    "nodes_tensor = torch.from_numpy(nodes).float().to(device)\n",
    "# TO DO : modify your adjacency matrix tensor. The rest should not change from previous question\n",
    "\n",
    "# TO DO : Define your model, your loss and your optimizer\n",
    "\n",
    "for i in tqdm(range(nb_epochs)):\n",
    "    # TO DO \n",
    "    # As you've done in previous TP, apply your model on your TRAIN data, compute the loss and backpropagate it. \n",
    "    # Also add your loss to your list\n",
    "\n",
    "    # Now, apply your model on your VALID data. Compute your loss but do NOT backpropagate it. It is only for validation !\n",
    "    # Also add your lost to your list\n",
    "    \n",
    "# TO DO : Apply you model on TEST data and compute the Root Mean-Squared Error (outside the loop)\n",
    "\n",
    "\n",
    "# TO DO : plot both loss train and loss valid\n",
    "\n",
    "\n",
    "del model"
   ]
  },
  {
   "cell_type": "markdown",
   "id": "43",
   "metadata": {
    "id": "2fe6806a"
   },
   "source": [
    "Finally, we want to implement the General GNN. This time, we have to modify our GNN layer in order to compute 2 linear layers :\n",
    "*  one for the Adjacency Matrix\n",
    "*  one for the Identity Matrix."
   ]
  },
  {
   "cell_type": "code",
   "execution_count": null,
   "id": "44",
   "metadata": {
    "id": "ca232617"
   },
   "outputs": [],
   "source": [
    "class GNN_layer_general(nn.Module):\n",
    "    def __init__(self, input_dim, output_dim=64): \n",
    "        super(GNN_layer_general,self).__init__()\n",
    "        # TO DO :  change the definition of your GNN Layer for General GNN \\sigma(AHW1 + IHW2)\n",
    "        # Attributes : input dim and output dim\n",
    "\n",
    "        \n",
    "        # Non linearity : ReLU for example\n",
    "\n",
    "        \n",
    "        # Layer : Linear layers\n",
    "\n",
    "    def forward(self, nodes, adjacency):\n",
    "        # TO DO : Compute your general GNN\n",
    "\n",
    "        return out_1+out_2 # <= this is an hint, but you can modify it if this helps you *WINK WINK*"
   ]
  },
  {
   "cell_type": "code",
   "execution_count": null,
   "id": "45",
   "metadata": {
    "id": "2f5fd7bf"
   },
   "outputs": [],
   "source": [
    "class GNN_model(nn.Module):\n",
    "    def __init__(self, input_dim, hidden_dim, output_dim):\n",
    "        super(GNN_model, self).__init__()\n",
    "        # TO DO : redefine your GNN model. SHould not change from before, but you need to reexecute it\n",
    "        \n",
    "        # Attributes : intput dim, hidden dim (and output dim ?)\n",
    "\n",
    "        # Add a GNN layer\n",
    "\n",
    "        \n",
    "        # Out layer. Do we need an activation function ? \n",
    "        \n",
    "        \n",
    "    def forward(self, nodes, adjacency, X):\n",
    "        # TO DO :\n",
    "        # Apply GNN layer : \n",
    "        \n",
    "        \n",
    "        # Concatenate each pair of features for X. Given, because we are generous :)\n",
    "        node_pair = nodes[X].reshape((X.shape[0], 2*self.hidden_dim))\n",
    "        # Apply decision layer. Not given because we are not THAT generous \n",
    "        \n",
    "        return out\n"
   ]
  },
  {
   "cell_type": "code",
   "execution_count": null,
   "id": "46",
   "metadata": {
    "id": "24b1a51f"
   },
   "outputs": [],
   "source": [
    "nb_epochs = 1000\n",
    "\n",
    "loss_train = []\n",
    "loss_valid = []\n",
    "\n",
    "nodes_tensor = torch.from_numpy(nodes).float().to(device)\n",
    "# TO DO : modify your adjacency matrix tensor. The rest should not change from previous question\n",
    "\n",
    "# TO DO : Define your model, your loss and your optimizer\n",
    "\n",
    "for i in tqdm(range(nb_epochs)):\n",
    "    # TO DO \n",
    "    # As you've done in previous TP, apply your model on your TRAIN data, compute the loss and backpropagate it. \n",
    "    # Also add your loss to your list\n",
    "\n",
    "    # Now, apply your model on your VALID data. Compute your loss but do NOT backpropagate it. It is only for validation !\n",
    "    # Also add your lost to your list\n",
    "    \n",
    "# TO DO : Apply you model on TEST data and compute the Root Mean-Squared Error (outside the loop)\n",
    "\n",
    "\n",
    "# TO DO : plot both loss train and loss valid\n",
    "\n",
    "\n",
    "del model"
   ]
  },
  {
   "cell_type": "markdown",
   "id": "47",
   "metadata": {
    "id": "dfedaa18"
   },
   "source": [
    "__Some Meme for The end__\n",
    "<div align ='center'><img src=\"https://i.imgflip.com/7irtot.jpg\" height='200' title=\"made at imgflip.com\"/>\n",
    "\n",
    "<img src=\"https://i.imgflip.com/7irtuv.jpg\" height='200'  title=\"made at imgflip.com\"/>\n",
    "\n",
    "<img src=\"https://i.imgflip.com/7iru6r.jpg\" height='200' title=\"made at imgflip.com\"/>\n",
    "<img src=\"https://i.imgflip.com/7iru46.jpg\" height='200' title=\"made at imgflip.com\"/>\n",
    "\n",
    "\n",
    "</div>"
   ]
  }
 ],
 "metadata": {
  "accelerator": "GPU",
  "colab": {
   "include_colab_link": true,
   "provenance": [],
   "toc_visible": true
  },
  "gpuClass": "standard",
  "kernelspec": {
   "display_name": "Python 3 (ipykernel)",
   "language": "python",
   "name": "python3"
  },
  "language_info": {
   "codemirror_mode": {
    "name": "ipython",
    "version": 3
   },
   "file_extension": ".py",
   "mimetype": "text/x-python",
   "name": "python",
   "nbconvert_exporter": "python",
   "pygments_lexer": "ipython3",
   "version": "3.8.10"
  }
 },
 "nbformat": 4,
 "nbformat_minor": 5
}
