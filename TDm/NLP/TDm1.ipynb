{
 "cells": [
  {
   "cell_type": "markdown",
   "metadata": {
    "colab_type": "text",
    "id": "view-in-github"
   },
   "source": [
    "<a href=\"https://colab.research.google.com/github/thad75/OptionAI/blob/main/TDm/NLP/TDm1.ipynb\" target=\"_parent\"><img src=\"https://colab.research.google.com/assets/colab-badge.svg\" alt=\"Open In Colab\"/></a>"
   ]
  },
  {
   "cell_type": "markdown",
   "metadata": {
    "id": "H4kk7TKb4fzh"
   },
   "source": [
    "# TDm 1 : Exploring the Spotify Python API Spotipy"
   ]
  },
  {
   "cell_type": "markdown",
   "metadata": {
    "id": "I8KueFFu4BxW"
   },
   "source": [
    "\n",
    "## *Prerequisites*\n",
    "\n",
    "* To complete this lab, you'll need to have few things installed:\n",
    "\n",
    "  * The Spotipy package (you can install it using pip: **pip install spotipy**)\n",
    "  * A Spotify account"
   ]
  },
  {
   "cell_type": "code",
   "execution_count": null,
   "metadata": {
    "id": "kN6njKglADOE"
   },
   "outputs": [],
   "source": [
    "# Replace ... by missing code\n",
    "# Spotipy install command\n",
    "...\n",
    "!pip install beautifulsoup4"
   ]
  },
  {
   "cell_type": "markdown",
   "metadata": {
    "id": "oma8-h4rIP8F"
   },
   "source": [
    "![Image of spotipy](https://i.morioh.com/2020/03/26/aa197f4fbded.jpg)"
   ]
  },
  {
   "cell_type": "markdown",
   "metadata": {
    "id": "2D57ewoW4MR4"
   },
   "source": [
    "## *Setup*\n",
    "\n",
    "To get started, you'll need to create an application on the Spotify Developer Dashboard. Follow these steps:\n",
    "\n",
    "  1. Go to the Spotify Developer Dashboard https://developer.spotify.com/dashboard/\n",
    "  2. Log in with your Spotify account\n",
    "  3. Click \"Create an App\" and fill in the required informations\n",
    "  4. Once your app is created, click on it to view the app details\n",
    "  5. Copy the \"Client ID\" and \"Client Secret\" values"
   ]
  },
  {
   "cell_type": "markdown",
   "metadata": {
    "id": "MTylR5ej6rv_"
   },
   "source": [
    "## **Task 1 : Spotipy Authorization**\n",
    "\n",
    "In order to use the Spotify API, we need to authenticate our requests using OAuth. Follow these steps to authorize your application:\n",
    "\n",
    "  6. Import the Spotipy library :"
   ]
  },
  {
   "cell_type": "code",
   "execution_count": null,
   "metadata": {
    "id": "t9QSQh33Ac_p"
   },
   "outputs": [],
   "source": [
    "# Import commands\n",
    "import ...\n",
    "import os \n",
    "import requests\n",
    "from bs4 import BeautifulSoup"
   ]
  },
  {
   "cell_type": "markdown",
   "metadata": {
    "id": "MxgW-sxsAxEh"
   },
   "source": [
    "  7. Set your client ID and client secret as environment variables of this notebook :"
   ]
  },
  {
   "cell_type": "code",
   "execution_count": null,
   "metadata": {
    "id": "T53WF9PY4Zkb"
   },
   "outputs": [],
   "source": [
    "# Your credentials\n",
    "os.environ['SPOTIPY_CLIENT_ID']= '...'\n",
    "os.environ['SPOTIPY_CLIENT_SECRET']= '...'"
   ]
  },
  {
   "cell_type": "markdown",
   "metadata": {
    "id": "kEYABaF7CIO_"
   },
   "source": [
    "  8. Create a spotipy client object. You can use SpotifyClientCredentials() which will use the environment variables you just set.\n",
    "\n",
    "You can also have a look at the documentation : https://spotipy.readthedocs.io/en/2.22.1/#spotipy.oauth2.SpotifyClientCredentials"
   ]
  },
  {
   "cell_type": "code",
   "execution_count": null,
   "metadata": {
    "id": "Grj4KV_87Cfi"
   },
   "outputs": [],
   "source": [
    "# Import the proposed method from spotipy\n",
    "from spotipy.oauth2 import ...\n",
    "\n",
    "# Create your client using the method you imported\n",
    "spotify = spotipy.Spotify(client_credentials_manager=...)"
   ]
  },
  {
   "cell_type": "markdown",
   "metadata": {
    "id": "Dq-Ed0q1EZm9"
   },
   "source": [
    "  9. Use the current_user() method to test that your authorization is working correctly : \n",
    "  https://spotipy.readthedocs.io/en/2.22.1/#spotipy.client.Spotify.current_user \n",
    "\n",
    "\n",
    "Remember to use the client you created to call the method."
   ]
  },
  {
   "cell_type": "code",
   "execution_count": null,
   "metadata": {
    "id": "STSPhIRFEsdD"
   },
   "outputs": [],
   "source": [
    "# Call the method\n",
    "user = ...\n",
    "print(user['display_name'])"
   ]
  },
  {
   "cell_type": "markdown",
   "metadata": {
    "id": "T6cRaJ-IJRUG"
   },
   "source": [
    "## **Task 2 : Search for tracks**\n",
    "\n",
    "Now that we're authorized, let's try searching some tracks. \n",
    "* Use the search() method to search for a track by name : \n",
    "https://spotipy.readthedocs.io/en/2.22.1/#spotipy.client.Spotify.search"
   ]
  },
  {
   "cell_type": "code",
   "execution_count": null,
   "metadata": {
    "id": "hVeKaofBMly8"
   },
   "outputs": [],
   "source": [
    "# Complete the code to search for your favorite song\n",
    "results = spotify ...\n",
    "\n",
    "# Find the correct way to access the 'item' key in results\n",
    "items = results ...\n",
    "\n",
    "# Print out the information about the name of each tracks, name of album and name of first artist\n",
    "for item in items:\n",
    "    print(item[...], item[...][...], item['artists'][0][...])"
   ]
  },
  {
   "cell_type": "markdown",
   "metadata": {
    "id": "IdYHzBBlQZMS"
   },
   "source": [
    "## **Task 3 : Explore an artist**\n",
    "\n",
    "Now that we're used to it, let's explore artists. \n",
    "* Use the search() method again"
   ]
  },
  {
   "cell_type": "markdown",
   "metadata": {
    "id": "Hhuk2ovrQysd"
   },
   "source": [
    "### **Step 1 : your new query**"
   ]
  },
  {
   "cell_type": "code",
   "execution_count": null,
   "metadata": {
    "id": "XH7ygAU6Q_Bl"
   },
   "outputs": [],
   "source": [
    "# Choose your artist\n",
    "your_favorite_artist  = '...'\n",
    "\n",
    "# Use search method. Set the limit to max. \n",
    "artist = spotify ..."
   ]
  },
  {
   "cell_type": "markdown",
   "metadata": {
    "id": "6QLXE7d2SSyj"
   },
   "source": [
    "What is the limit of your query ?"
   ]
  },
  {
   "cell_type": "markdown",
   "metadata": {
    "id": "rs-Mu_-PScWA"
   },
   "source": [
    "### **Step 2 : exploring your artist's information**\n",
    "* Print out the keys associated with your artist. What do you notice ?\n",
    "* Print out keys one level below. Is there more information available ?\n",
    "* What's the the output type of your search ?"
   ]
  },
  {
   "cell_type": "code",
   "execution_count": null,
   "metadata": {
    "id": "Ym4qWwDrSo0T"
   },
   "outputs": [],
   "source": [
    "# Code the printing of keys."
   ]
  },
  {
   "cell_type": "markdown",
   "metadata": {
    "id": "_eVpoOEXTtTC"
   },
   "source": [
    "Now, let's access the next song in your query.\n",
    "* Print out its name"
   ]
  },
  {
   "cell_type": "code",
   "execution_count": null,
   "metadata": {
    "id": "uhi2zU6kUYme"
   },
   "outputs": [],
   "source": [
    "# Find the next song\n",
    "next_song = ...\n",
    "next_song_name = ...\n",
    "\n",
    "# Print it out\n"
   ]
  },
  {
   "cell_type": "markdown",
   "metadata": {
    "id": "Txs7p_eKVSvK"
   },
   "source": [
    "Bonus : You could even launch a new query using the url in 'next'"
   ]
  },
  {
   "cell_type": "code",
   "execution_count": null,
   "metadata": {
    "id": "_Sp-cYDMVR71"
   },
   "outputs": [],
   "source": [
    "# Code here"
   ]
  },
  {
   "cell_type": "markdown",
   "metadata": {
    "id": "E_7_HCE7VnSE"
   },
   "source": [
    "Last but not not least: \n",
    "* Define a function returning the artists IDs for artists in a song"
   ]
  },
  {
   "cell_type": "code",
   "execution_count": null,
   "metadata": {
    "id": "cxjIXcTXV_CJ"
   },
   "outputs": [],
   "source": [
    "# Choose the correct information to return\n",
    "\n",
    "def get_artist_id(artists):\n",
    "\n",
    "  artist_id = []\n",
    "  \n",
    "  for i in artists:\n",
    "    artist_id.append(...)\n",
    "\n",
    "  return artist_id\n",
    "  \n",
    "get_artist_id(artist['tracks']['items'][0]['artists'])"
   ]
  },
  {
   "cell_type": "markdown",
   "metadata": {
    "id": "WXPCDKo8bsAm"
   },
   "source": [
    "## **Task 4 : Have some lyrics and create your dataset**\n",
    "\n",
    "Here is a list of artist you can change as you like. Given this list, you'll build a dataset containing lyrics and metrics of their songs. \n",
    "\n",
    "**Feel free to add your favorite artists in it ;)**"
   ]
  },
  {
   "cell_type": "code",
   "execution_count": null,
   "metadata": {
    "id": "L7XDBfD0b-yz"
   },
   "outputs": [],
   "source": [
    "artists = ['A.R. Rahman', 'Anirudh Ravichander', 'Shankar-Ehsaan-Loy', 'Vishal-Shekhar', 'Abida Parveen', 'Ali Farka Touré', 'Tinariwen', 'Bombino', 'Salif Keita', 'Amadou & Mariam',\n",
    "           'Oumou Sangaré', 'Amr Diab', 'Khaled', 'Fela Kuti', 'Angélique Kidjo', 'Cesaria Evora', 'Buena Vista Social Club', 'Santana', 'Juanes', 'Julio Iglesias', 'Avicii', 'ABBA', \n",
    "           'Zara Larsson', 'Sigur Rós', 'Björk', 'Mozart l Opéra Rock','Indochine', 'Christine and the Queens', 'Jean-Jacques Goldman', 'Stromae', 'Gotye', 'Sia', 'AC/DC', 'Cold Chisel',\n",
    "           'Keith Urban', 'BTS', 'EXO', 'G-Dragon', 'Blackpink', 'Tarkan', 'Sezen Aksu', 'Nusrat Fateh Ali Khan', 'Cheb Mami', 'Souad Massi', 'Fairuz', 'Omar Khairat', 'Seu Jorge', \n",
    "           'Caetano Veloso', 'Os Mutantes', 'Gilberto Gil', 'Tito Puente', 'Rubén Blades', 'Daddy Yankee', 'Enrique Iglesias', 'Rosalía', 'Eminem', 'Bob Dylan', 'Ray Charles', 'Bob Marley',\n",
    "           'Wolfgang Amadeus Mozart', 'Johann Sebastian Bach', 'Antonio Vivaldi', 'Ludwig van Beethoven', 'Frédéric Chopin', 'Felix Mendelssohn', 'Franz Schubert', 'Hector Berlioz', 'Richard Wagner',\n",
    "           'Johnny Hallyday', 'The Rolling Stones', 'The Beatles', 'Jimi Hendrix', 'The Animals', 'Édith Piaf', 'Charles Trenet', 'Gilbert Bécaud', 'Louis Armstrong', 'Jacques Brel', 'Michel Polnareff',\n",
    "           'Coldplay', 'Daft Punk', 'David Guetta', 'Tupac Shakur (2Pac)', 'Ben E. King', 'Mariah Carey', 'Whitney Houston', 'Michael Jackson', 'Prince', 'Madonna', 'Elton John', 'Billy Joel', \n",
    "           'Bruce Springsteen', 'Taylor Swift', 'Lady Gaga', 'Bruno Mars', 'Katy Perry', 'Rihanna', 'Justin Bieber', 'Ariana Grande', 'Drake', 'Kendrick Lamar', 'Cardi B', 'Travis Scott', 'Post Malone', \n",
    "           'Bassekou Kouyaté', 'Toumani Diabaté', 'Rokia Traoré', 'Cheikh Lô', 'Youssou NDour', 'Baaba Maal', 'Nina Simone', 'Billie Holiday', 'Ella Fitzgerald', 'Nat King Cole', 'Count Basie', 'Duke Ellington',\n",
    "           'John Coltrane', 'Miles Davis', 'Charlie Parker', 'Sonny Rollins', 'Thelonious Monk', 'Erik Satie', 'Claude Debussy', 'Maurice Ravel', 'Camille Saint-Saëns', 'Georges Bizet', 'Gabriel Fauré', \n",
    "           'Francis Poulenc', 'Henri Dutilleux', 'Arnold Schoenberg', 'Igor Stravinsky', 'Gustav Mahler']\n",
    "\n",
    "\n",
    "artists = list(set((artists)))\n",
    "print(artists)"
   ]
  },
  {
   "cell_type": "markdown",
   "metadata": {
    "id": "ZSxnrqq-1mpk"
   },
   "source": [
    "Feel free to add the metrics you want in the dataset given two constraints : \n",
    "  * Number of metrics used must be between 2 and 5 ;\n",
    "  * Metrics should include popularity.\n",
    "\n",
    "You can explore available metrics in the API docs or directly by searching the querys you already made using search().\n",
    "\n",
    "*Hint : you can search the API doc for a more straightforward function retrieving* ***features***... ;)"
   ]
  },
  {
   "cell_type": "code",
   "execution_count": null,
   "metadata": {
    "id": "x6gxOH212WIy"
   },
   "outputs": [],
   "source": [
    "dataset = []\n",
    "\n",
    "for artist in artists:\n",
    "\n",
    "  artist = spotify.search(artist, limit = 50)\n",
    "\n",
    "  # Retrieve songs of each artist\n",
    "  dataset+=[(i['id'],i['name'],get_artist_id(i['artists'])) for i in artist['...']['...']]"
   ]
  },
  {
   "cell_type": "markdown",
   "metadata": {
    "id": "Sk1y5nLs8vCG"
   },
   "source": [
    "Now, you got songs, find their lyrics... Unfortunately, this is not possible using the API. So, as usual, when in trouble, search the web..."
   ]
  },
  {
   "cell_type": "code",
   "execution_count": null,
   "metadata": {
    "id": "7pqmKxg39HMD"
   },
   "outputs": [],
   "source": [
    "# Search for lyrics for each song using the azlyrics.com website\n",
    "for song in ...:\n",
    "\n",
    "    # The track() function uses id as a parameter...\n",
    "    track = spotify.track(...)\n",
    "    track_name = track['name'].replace(' ', '').lower()\n",
    "    artist_name = track['artists'][0]['name'].replace(' ', '').lower()\n",
    "\n",
    "    url = f'https://www.azlyrics.com/lyrics/{artist_name}/{track_name}.html'\n",
    "    response = requests.get(url)\n",
    "\n",
    "    if response.status_code == 200:\n",
    "        soup = BeautifulSoup(response.content, 'html.parser')\n",
    "        lyrics = soup.find_all('div', class_='col-xs-12 col-lg-8 text-center')[0].find_all('div')[6].get_text()\n",
    "        # Add the lyrics to the dataset\n",
    "        ... = lyrics\n",
    "    else:\n",
    "        # If no lyrics found, insert None\n",
    "        ... = None"
   ]
  },
  {
   "cell_type": "markdown",
   "metadata": {
    "id": "X33RwodJAswL"
   },
   "source": [
    "Finally, you can add metrics."
   ]
  },
  {
   "cell_type": "code",
   "execution_count": null,
   "metadata": {
    "id": "ebvBkStwBA9x"
   },
   "outputs": [],
   "source": [
    "# Obtain Spotify metrics for each song. Choose which to add...\n",
    "for song in ... :\n",
    "    features = spotify.audio_...(...)[0]\n",
    "    ... = features['popularity']\n",
    "    ...\n",
    "    ...\n",
    "    ...\n",
    "    ...\n"
   ]
  }
 ],
 "metadata": {
  "colab": {
   "include_colab_link": true,
   "provenance": []
  },
  "kernelspec": {
   "display_name": "Python 3",
   "name": "python3"
  },
  "language_info": {
   "name": "python"
  }
 },
 "nbformat": 4,
 "nbformat_minor": 0
}
